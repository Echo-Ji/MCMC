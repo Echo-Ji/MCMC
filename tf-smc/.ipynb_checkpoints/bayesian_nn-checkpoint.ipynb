{
 "cells": [
  {
   "cell_type": "code",
   "execution_count": 10,
   "metadata": {
    "collapsed": false
   },
   "outputs": [],
   "source": [
    "from __future__ import absolute_import\n",
    "from __future__ import division\n",
    "from __future__ import print_function\n",
    "\n",
    "import time, warnings\n",
    "import pandas as pd\n",
    "from sklearn.preprocessing import StandardScaler\n",
    "from sklearn.metrics import roc_auc_score\n",
    "import edward as ed\n",
    "import numpy as np\n",
    "import tensorflow as tf\n",
    "from matplotlib import pyplot as plt\n",
    "\n",
    "from edward.models import Normal\n",
    "warnings.simplefilter('ignore')"
   ]
  },
  {
   "cell_type": "code",
   "execution_count": 2,
   "metadata": {
    "collapsed": false
   },
   "outputs": [],
   "source": [
    "def build_toy_dataset():\n",
    "    features = ['fixed acidity','volatile acidity','citric acid','residual sugar','chlorides','free sulfur dioxide','total sulfur dioxide','density','pH','sulphates','alcohol']\n",
    "    df = pd.read_csv('../winequality-white.csv', sep=';')\n",
    "    X = df[features].values\n",
    "    y = (df.quality >= 7).values.astype(np.float32)\n",
    "\n",
    "    # 标准化处理\n",
    "    scaler = StandardScaler()\n",
    "    X = scaler.fit_transform(X).astype(np.float32)\n",
    "    return X, y\n",
    "\n",
    "def neural_network(X, W_0, W_1, b_0, b_1):\n",
    "    h = tf.tanh(tf.matmul(X, W_0) + b_0)\n",
    "    h = tf.matmul(h, W_1) + b_1\n",
    "    return tf.reshape(h, [-1])"
   ]
  },
  {
   "cell_type": "code",
   "execution_count": 3,
   "metadata": {
    "collapsed": false
   },
   "outputs": [
    {
     "name": "stdout",
     "output_type": "stream",
     "text": [
      "4898 11\n"
     ]
    }
   ],
   "source": [
    "ed.set_seed(42)\n",
    "\n",
    "J = 1000\n",
    "B = 100\n",
    "K = 20\n",
    "# DATA\n",
    "X_train, y_train = build_toy_dataset() #真实数据\n",
    "N, D = X_train.shape\n",
    "print(N, D)"
   ]
  },
  {
   "cell_type": "code",
   "execution_count": 4,
   "metadata": {
    "collapsed": false
   },
   "outputs": [],
   "source": [
    "# MODEL\n",
    "W_0 = Normal(loc=tf.zeros([D, 14]), scale=tf.ones([D, 14]),name=\"W_0\")\n",
    "W_1 = Normal(loc=tf.zeros([14, 1]), scale=tf.ones([14, 1]), name=\"W_1\")\n",
    "b_0 = Normal(loc=tf.zeros(14), scale=tf.ones(14), name=\"b_0\")\n",
    "b_1 = Normal(loc=tf.zeros(1), scale=tf.ones(1), name=\"b_1\")\n",
    "\n",
    "X = tf.placeholder(tf.float32, [N, D], name=\"X\")\n",
    "y = Normal(loc=neural_network(X, W_0, W_1, b_0, b_1), scale=0.1 * tf.ones(N), name=\"y\")"
   ]
  },
  {
   "cell_type": "code",
   "execution_count": 5,
   "metadata": {
    "collapsed": false
   },
   "outputs": [],
   "source": [
    "# INFERENCE FRAMEWORK\n",
    "with tf.variable_scope(\"qW_0\"):\n",
    "    loc = tf.get_variable(\"loc\", [D, 14])\n",
    "    scale = tf.nn.softplus(tf.get_variable(\"scale\", [D, 14]))\n",
    "    qW_0 = Normal(loc=loc, scale=scale)\n",
    "with tf.variable_scope(\"qW_1\"):\n",
    "    loc = tf.get_variable(\"loc\", [14, 1])\n",
    "    scale = tf.nn.softplus(tf.get_variable(\"scale\", [14, 1]))\n",
    "    qW_1 = Normal(loc=loc, scale=scale)\n",
    "with tf.variable_scope(\"qb_0\"):\n",
    "    loc = tf.get_variable(\"loc\", [14])\n",
    "    scale = tf.nn.softplus(tf.get_variable(\"scale\", [14]))\n",
    "    qb_0 = Normal(loc=loc, scale=scale)\n",
    "with tf.variable_scope(\"qb_1\"):\n",
    "    loc = tf.get_variable(\"loc\", [1])\n",
    "    scale = tf.nn.softplus(tf.get_variable(\"scale\", [1]))\n",
    "    qb_1 = Normal(loc=loc, scale=scale)"
   ]
  },
  {
   "cell_type": "code",
   "execution_count": 6,
   "metadata": {
    "collapsed": false
   },
   "outputs": [],
   "source": [
    "# Sample functions from variational model to visualize fits.\n",
    "mus = tf.stack(\n",
    "    [neural_network(X_train, qW_0.sample(), qW_1.sample(),\n",
    "                       qb_0.sample(), qb_1.sample())\n",
    "    for _ in range(B)])"
   ]
  },
  {
   "cell_type": "code",
   "execution_count": 7,
   "metadata": {
    "collapsed": false
   },
   "outputs": [
    {
     "name": "stdout",
     "output_type": "stream",
     "text": [
      "initializing the graph...\n",
      "sampleing from prior of theta...\n",
      "sampling time:  8.90085506439\n"
     ]
    },
    {
     "data": {
      "image/png": "[encoded data removed]",
      "text/plain": [
       "<Figure size 432x288 with 1 Axes>"
      ]
     },
     "metadata": {},
     "output_type": "display_data"
    }
   ],
   "source": [
    "print(\"initializing the graph...\")\n",
    "start_sample = time.time()\n",
    "sess = ed.get_session()\n",
    "tf.global_variables_initializer().run()\n",
    "print(\"sampleing from prior of theta...\")\n",
    "outputs = mus.eval()\n",
    "print(\"sampling time: \", time.time() - start_sample)\n",
    "\n",
    "s = []\n",
    "for i in range(B):\n",
    "    s.append(roc_auc_score(y_train,outputs[i]))\n",
    "    \n",
    "plt.hist(s, bins=100)\n",
    "plt.show()"
   ]
  },
  {
   "cell_type": "code",
   "execution_count": 8,
   "metadata": {
    "collapsed": false
   },
   "outputs": [
    {
     "name": "stderr",
     "output_type": "stream",
     "text": [
      "/home/jjh/anaconda3/envs/edward_py2/lib/python2.7/site-packages/edward/util/random_variables.py:52: FutureWarning: Conversion of the second argument of issubdtype from `float` to `np.floating` is deprecated. In future, it will be treated as `np.float64 == np.dtype(float).type`.\n",
      "  not np.issubdtype(value.dtype, np.float) and \\\n"
     ]
    },
    {
     "name": "stdout",
     "output_type": "stream",
     "text": [
      "1000/1000 [100%] ██████████████████████████████ Elapsed: 31s | Loss: 26124.053\n"
     ]
    }
   ],
   "source": [
    "inference = ed.KLqp({W_0: qW_0, b_0: qb_0,\n",
    "                       W_1: qW_1, b_1: qb_1}, data={X: X_train, y: y_train})\n",
    "inference.run(n_iter=J, n_samples=K)"
   ]
  },
  {
   "cell_type": "code",
   "execution_count": 9,
   "metadata": {
    "collapsed": false
   },
   "outputs": [
    {
     "name": "stdout",
     "output_type": "stream",
     "text": [
      "sampleing from posterior of theta...\n",
      "sampling time:  0.0569050312042\n"
     ]
    },
    {
     "data": {
      "image/png": "[encoded data removed]",
      "text/plain": [
       "<Figure size 432x288 with 1 Axes>"
      ]
     },
     "metadata": {},
     "output_type": "display_data"
    }
   ],
   "source": [
    "print(\"sampleing from posterior of theta...\")\n",
    "start_sample = time.time()\n",
    "outputs = mus.eval()\n",
    "print(\"sampling time: \", time.time() - start_sample)\n",
    "sp = []\n",
    "for i in range(10):\n",
    "    sp.append(roc_auc_score(y_train,outputs[i]))\n",
    "    \n",
    "plt.hist(sp, bins=100)\n",
    "plt.show()"
   ]
  },
  {
   "cell_type": "code",
   "execution_count": 11,
   "metadata": {
    "collapsed": true
   },
   "outputs": [],
   "source": [
    "a = qW_0.sample(1000)\n",
    "mya = a.eval()"
   ]
  },
  {
   "cell_type": "code",
   "execution_count": 12,
   "metadata": {
    "collapsed": false
   },
   "outputs": [
    {
     "data": {
      "text/plain": [
       "(1000, 11, 14)"
      ]
     },
     "execution_count": 12,
     "metadata": {},
     "output_type": "execute_result"
    }
   ],
   "source": [
    "mya.shape"
   ]
  },
  {
   "cell_type": "code",
   "execution_count": 14,
   "metadata": {
    "collapsed": false
   },
   "outputs": [
    {
     "data": {
      "image/png": "[encoded data removed]",
      "text/plain": [
       "<Figure size 432x288 with 1 Axes>"
      ]
     },
     "metadata": {},
     "output_type": "display_data"
    }
   ],
   "source": [
    "plt.hist(mya[:,0,0])\n",
    "plt.show()"
   ]
  },
  {
   "cell_type": "code",
   "execution_count": null,
   "metadata": {
    "collapsed": true
   },
   "outputs": [],
   "source": []
  }
 ],
 "metadata": {
  "anaconda-cloud": {},
  "kernelspec": {
   "display_name": "Python [conda env:edward_py2]",
   "language": "python",
   "name": "conda-env-edward_py2-py"
  },
  "language_info": {
   "codemirror_mode": {
    "name": "ipython",
    "version": 2
   },
   "file_extension": ".py",
   "mimetype": "text/x-python",
   "name": "python",
   "nbconvert_exporter": "python",
   "pygments_lexer": "ipython2",
   "version": "2.7.13"
  }
 },
 "nbformat": 4,
 "nbformat_minor": 1
}
