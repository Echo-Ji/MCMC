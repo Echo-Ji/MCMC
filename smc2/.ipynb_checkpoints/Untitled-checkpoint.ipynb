{
 "cells": [
  {
   "cell_type": "code",
   "execution_count": 1,
   "metadata": {
    "collapsed": false
   },
   "outputs": [],
   "source": [
    "#-*- coding:utf8 -*-\n",
    "%matplotlib inline\n",
    "\n",
    "from __future__ import absolute_import\n",
    "from __future__ import division\n",
    "from __future__ import print_function\n",
    "\n",
    "import warnings, pickle, time\n",
    "import numpy as np\n",
    "import pandas as pd\n",
    "from sklearn.preprocessing import StandardScaler\n",
    "from sklearn.metrics import roc_auc_score, log_loss\n",
    "from matplotlib import pyplot as plt\n",
    "from copy import deepcopy\n",
    "from multiprocessing import Pool\n",
    "\n",
    "warnings.simplefilter('ignore')\n",
    "\n",
    "def np_neural_network(X, W_0, W_1, W_2, b_0, b_1, b_2):\n",
    "    h = np.tanh(np.matmul(X, W_0) + b_0)\n",
    "    h = np.tanh(np.matmul(h, W_1) + b_1)\n",
    "    h = 1 / (1 + np.exp(- np.matmul(h,W_2) - b_2))\n",
    "    return np.reshape(h, [-1])\n",
    "\n",
    "def unpack_thate_get_outputs(X, theta):\n",
    "    W_0 = np.reshape(theta[0:11*7], [11, 7])\n",
    "    W_1 = np.reshape(theta[11*7: 11*7+7*10], [7, 10])\n",
    "    W_2 = np.reshape(theta[11*7+7*10: 11*7+7*10+10*1], [10, 1])\n",
    "    bs = 11*7+7*10+10*1\n",
    "    b_0 = np.reshape(theta[bs:bs+7], [7])\n",
    "    b_1 = np.reshape(theta[bs+7:bs+7+10], [10])\n",
    "    b_2 = np.reshape(theta[bs+7+10:], [1])\n",
    "    return np_neural_network(X, W_0, W_1, W_2, b_0, b_1, b_2)\n",
    "\n",
    "def log_likelihood(X, y, theta):\n",
    "    pred = unpack_thate_get_outputs(X, theta)\n",
    "    return log_loss(y, pred)\n",
    "    \n",
    "\n",
    "def gradient(theta):\n",
    "    result = []\n",
    "    for i in range(features.shape[1]):\n",
    "        X1 = deepcopy(features)\n",
    "        X1[:,i] += 1e-4\n",
    "        X2 = deepcopy(X_train)\n",
    "        X2[:,i] -= 1e-4\n",
    "        pred1 = unpack_thate_get_outputs(X1, theta)\n",
    "        pred2 = unpack_thate_get_outputs(X2, theta)\n",
    "        g = (pred1 - pred2) / 2e-4    # 梯度\n",
    "        result.append(np.mean(g))\n",
    "    return result\n",
    "\n",
    "\n",
    "alls = time.time()\n",
    "J = 5000\n",
    "B = 5000\n",
    "\n",
    "\n",
    "# read raw data\n",
    "data = pd.read_csv('../winequality-white.csv', sep=';')\n",
    "\n",
    "# shuffle\n",
    "data = data.sample(frac=1).reset_index(drop=True)\n",
    "\n",
    "# split into feature part and target part\n",
    "features = data.iloc[:,:-1].values.astype(np.float32)\n",
    "targets = data.quality.values\n",
    "\n",
    "# change target to binary label\n",
    "targets = (targets>=7).astype(np.float32)\n",
    "\n",
    "# normalization\n",
    "features = StandardScaler().fit_transform(features)\n",
    "\n",
    "# numbers of data points and features\n",
    "n_features = features.shape[1]\n",
    "\n",
    "with open('../smc2/mtheta'+'-'+str(J)+'-'+str(B) + '-2h-10v','rb') as f:\n",
    "    outputs = pickle.load(f)\n"
   ]
  },
  {
   "cell_type": "code",
   "execution_count": 2,
   "metadata": {
    "collapsed": false,
    "scrolled": true
   },
   "outputs": [
    {
     "data": {
      "text/plain": [
       "(array([   5.,   27.,  172.,  576., 1333., 1555.,  944.,  308.,   66.,\n",
       "          14.]),\n",
       " array([0.68850225, 0.69520348, 0.70190471, 0.70860594, 0.71530716,\n",
       "        0.72200839, 0.72870962, 0.73541084, 0.74211207, 0.7488133 ,\n",
       "        0.75551452]),\n",
       " <a list of 10 Patch objects>)"
      ]
     },
     "execution_count": 2,
     "metadata": {},
     "output_type": "execute_result"
    },
    {
     "data": {
      "image/png": "[encoded data removed]",
      "text/plain": [
       "<Figure size 432x288 with 1 Axes>"
      ]
     },
     "metadata": {},
     "output_type": "display_data"
    }
   ],
   "source": [
    "# likelihood score\n",
    "lk = []\n",
    "pool = Pool(30)\n",
    "preds = []\n",
    "for i in range(B):\n",
    "    preds.append(pool.apply_async(log_likelihood, (features, targets, outputs[i])))\n",
    "\n",
    "for pred in preds:\n",
    "    lk.append(pred.get())\n",
    "\n",
    "plt.hist(lk)"
   ]
  },
  {
   "cell_type": "code",
   "execution_count": null,
   "metadata": {
    "collapsed": false
   },
   "outputs": [],
   "source": [
    "# AUC score\n",
    "auc = []\n",
    "pool = Pool(30)\n",
    "preds = []\n",
    "for i in range(B):\n",
    "    preds.append(pool.apply_async(unpack_thate_get_outputs, (features, outputs[i])))\n",
    "\n",
    "for pred in preds:\n",
    "    auc.append(roc_auc_score(targets, pred.get()))"
   ]
  },
  {
   "cell_type": "code",
   "execution_count": null,
   "metadata": {
    "collapsed": false
   },
   "outputs": [],
   "source": [
    "plt.hist(auc, bins=20)"
   ]
  },
  {
   "cell_type": "code",
   "execution_count": null,
   "metadata": {
    "collapsed": true
   },
   "outputs": [],
   "source": [
    "G = []\n",
    "pool = Pool(30)\n",
    "for theta in outputs:\n",
    "    G.append(gradient(theta))\n",
    "G = np.array(G)"
   ]
  },
  {
   "cell_type": "code",
   "execution_count": null,
   "metadata": {
    "collapsed": false,
    "scrolled": true
   },
   "outputs": [],
   "source": [
    "feature_name = ['fixed acidity','volatile acidity','citric acid','residual sugar','chlorides','free sulfur dioxide','total sulfur dioxide','density','pH','sulphates','alcohol']\n",
    "\n",
    "# 均值\n",
    "for i in range(X_train.shape[1]):\n",
    "    plt.title(feature_name[i])\n",
    "    plt.boxplot(G[:,i])\n",
    "    plt.show()\n",
    "    # plt.savefig('box_' + feature_name[i] + '.png')\n",
    "    plt.close()\n",
    "    \n",
    "    plt.title(feature_name[i])\n",
    "    plt.hist(G[:,i], bins=20)\n",
    "    # plt.savefig('hist_' + feature_name[i] + '.png')\n",
    "    plt.show()\n",
    "    plt.close()\n",
    "\n"
   ]
  },
  {
   "cell_type": "code",
   "execution_count": null,
   "metadata": {
    "collapsed": false,
    "scrolled": true
   },
   "outputs": [],
   "source": [
    "for i in range(175):\n",
    "    plt.hist(outputs[:,i], bins=20)\n",
    "    plt.show()\n",
    "    plt.close()"
   ]
  },
  {
   "cell_type": "code",
   "execution_count": null,
   "metadata": {
    "collapsed": false
   },
   "outputs": [],
   "source": [
    "from sklearn.metrics import log_loss"
   ]
  },
  {
   "cell_type": "code",
   "execution_count": null,
   "metadata": {
    "collapsed": false
   },
   "outputs": [],
   "source": [
    "help(log_loss)"
   ]
  },
  {
   "cell_type": "code",
   "execution_count": null,
   "metadata": {
    "collapsed": true
   },
   "outputs": [],
   "source": []
  }
 ],
 "metadata": {
  "anaconda-cloud": {},
  "kernelspec": {
   "display_name": "Python [conda env:edward_py2]",
   "language": "python",
   "name": "conda-env-edward_py2-py"
  },
  "language_info": {
   "codemirror_mode": {
    "name": "ipython",
    "version": 2
   },
   "file_extension": ".py",
   "mimetype": "text/x-python",
   "name": "python",
   "nbconvert_exporter": "python",
   "pygments_lexer": "ipython2",
   "version": "2.7.13"
  }
 },
 "nbformat": 4,
 "nbformat_minor": 1
}
