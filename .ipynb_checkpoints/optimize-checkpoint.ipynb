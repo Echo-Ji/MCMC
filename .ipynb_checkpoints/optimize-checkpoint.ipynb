{
 "cells": [
  {
   "cell_type": "code",
   "execution_count": 1,
   "metadata": {
    "collapsed": false
   },
   "outputs": [],
   "source": [
    "import os, sys\n",
    "import numpy as np\n",
    "import pandas as pd\n",
    "from sklearn.neural_network import MLPClassifier\n",
    "from sklearn.model_selection import GridSearchCV\n",
    "from sklearn.preprocessing import StandardScaler\n",
    "import matplotlib.pyplot as plt"
   ]
  },
  {
   "cell_type": "code",
   "execution_count": 2,
   "metadata": {
    "collapsed": true,
    "scrolled": true
   },
   "outputs": [],
   "source": [
    "data = pd.read_csv('winequality-white.csv', sep=';')\n",
    "\n",
    "# shuffle\n",
    "data = data.sample(frac=1).reset_index(drop=True)\n",
    "\n",
    "# split into feature part and target part\n",
    "features = data.iloc[:,:-1].values\n",
    "targets = data.quality.values\n",
    "\n",
    "# change target to binary label\n",
    "targets = targets>=7\n",
    "\n",
    "# normalization\n",
    "features = StandardScaler().fit_transform(features)"
   ]
  },
  {
   "cell_type": "code",
   "execution_count": null,
   "metadata": {
    "collapsed": true
   },
   "outputs": [],
   "source": [
    "grid = GridSearchCV(\n",
    "    estimator = MLPClassifier(solver='adam', activation='logistic', max_iter=2000),\n",
    "    param_grid = {\n",
    "        'hidden_layer_sizes': [(x,) for x in range(20,33,2)],\n",
    "        'alpha': [0.00005, 0.0001, 0.0002],\n",
    "    },\n",
    "    scoring = 'neg_log_loss',\n",
    "    n_jobs = 8,\n",
    "    cv = 5,\n",
    "    refit = True,\n",
    "    return_train_score=True,\n",
    ")"
   ]
  },
  {
   "cell_type": "code",
   "execution_count": null,
   "metadata": {
    "collapsed": true,
    "scrolled": true
   },
   "outputs": [],
   "source": [
    "grid.fit(features, targets)"
   ]
  },
  {
   "cell_type": "code",
   "execution_count": null,
   "metadata": {
    "collapsed": true
   },
   "outputs": [],
   "source": [
    "grid.best_params_, grid.best_score_"
   ]
  },
  {
   "cell_type": "code",
   "execution_count": null,
   "metadata": {
    "collapsed": true,
    "scrolled": false
   },
   "outputs": [],
   "source": [
    "tmp = grid.cv_results_\n",
    "for params,score,rank in zip(tmp['params'], tmp['mean_test_score'], tmp['rank_test_score']):\n",
    "    print (params, score, rank)\n",
    "    print ()"
   ]
  },
  {
   "cell_type": "code",
   "execution_count": 8,
   "metadata": {
    "collapsed": false
   },
   "outputs": [
    {
     "name": "stdout",
     "output_type": "stream",
     "text": [
      "0.34926923994944664 0.8739526286292979\n"
     ]
    }
   ],
   "source": [
    "# test auc score given parameters\n",
    "from sklearn.metrics import roc_auc_score, log_loss\n",
    "from sklearn.model_selection import KFold\n",
    "\n",
    "mlp = MLPClassifier(solver='adam', activation='tanh', max_iter=2000, hidden_layer_sizes=(7,10,), alpha=0.0001)\n",
    "'''\n",
    "auc = []\n",
    "\n",
    "kf = KFold(n_splits=8,  shuffle=True)\n",
    "for train_index, test_index in kf.split(features):\n",
    "    train_features, test_features = features[train_index], features[test_index]\n",
    "    train_targets, test_targets = targets[train_index], targets[test_index]\n",
    "    \n",
    "    mlp.fit(train_features, train_targets)\n",
    "    # print (mlp.classes_)\n",
    "    \n",
    "    pred = mlp.predict_proba(test_features)[:,1]\n",
    "    \n",
    "    auc.append(roc_auc_score(test_targets, pred)) \n",
    "\n",
    "print (np.mean(auc), np.std(auc))\n",
    "print (auc)\n",
    "'''\n",
    "mlp.fit(features, targets)\n",
    "pred = mlp.predict_proba(features)[:,1]\n",
    "print (log_loss(targets, pred), roc_auc_score(targets, pred))\n"
   ]
  },
  {
   "cell_type": "code",
   "execution_count": null,
   "metadata": {
    "collapsed": true
   },
   "outputs": [],
   "source": []
  }
 ],
 "metadata": {
  "kernelspec": {
   "display_name": "Python [conda env:edward_py2]",
   "language": "python",
   "name": "conda-env-edward_py2-py"
  },
  "language_info": {
   "codemirror_mode": {
    "name": "ipython",
    "version": 2
   },
   "file_extension": ".py",
   "mimetype": "text/x-python",
   "name": "python",
   "nbconvert_exporter": "python",
   "pygments_lexer": "ipython2",
   "version": "2.7.13"
  }
 },
 "nbformat": 4,
 "nbformat_minor": 2
}
