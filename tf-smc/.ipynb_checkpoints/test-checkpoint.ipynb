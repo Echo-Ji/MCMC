{
 "cells": [
  {
   "cell_type": "code",
   "execution_count": 1,
   "metadata": {
    "collapsed": true
   },
   "outputs": [],
   "source": [
    "#-*- coding:utf8 -*-\n",
    "import os\n",
    "os.environ['CUDA_VISIBLE_DEVICES']='1'"
   ]
  },
  {
   "cell_type": "code",
   "execution_count": 2,
   "metadata": {
    "collapsed": true
   },
   "outputs": [],
   "source": [
    "import tensorflow as tf\n",
    "from sklearn.preprocessing import StandardScaler\n",
    "from sklearn.metrics import accuracy_score, roc_auc_score\n",
    "from sklearn.neural_network import MLPClassifier\n",
    "import matplotlib.pyplot as plt \n",
    "import pandas as pd\n",
    "import numpy as np"
   ]
  },
  {
   "cell_type": "code",
   "execution_count": 3,
   "metadata": {
    "collapsed": false
   },
   "outputs": [
    {
     "name": "stdout",
     "output_type": "stream",
     "text": [
      "Shape of X:  (131730, 9) Shape of Y (131730, 1)\n"
     ]
    }
   ],
   "source": [
    "def build_dataset():\n",
    "    X_features = ['temperature.SI','pressure.SI','humidity.SI','wind_speed.SI','PM2.5.SI','NO2.SI','CO.SI','O3.SI','SO2.SI']\n",
    "    Y_features = ['temperature.SI']\n",
    "    dfx = pd.read_csv('../xs.csv')\n",
    "    dfy = pd.read_csv('../ys.csv')   \n",
    "    X = dfx[X_features].values.astype(np.float32)\n",
    "    Y = dfy[Y_features].values.astype(np.float32)\n",
    "    return X, Y\n",
    "\n",
    "x_vals, y_vals = build_dataset()\n",
    "print 'Shape of X: ', x_vals.shape, 'Shape of Y', y_vals.shape"
   ]
  },
  {
   "cell_type": "markdown",
   "metadata": {},
   "source": [
    "## 数据预处理"
   ]
  },
  {
   "cell_type": "code",
   "execution_count": 4,
   "metadata": {
    "collapsed": false,
    "scrolled": true
   },
   "outputs": [],
   "source": [
    "# Create graph session\n",
    "sess = tf.InteractiveSession()\n",
    "\n",
    "# set batch size for training\n",
    "batch_size = 10000\n",
    "\n",
    "# make results reproducible\n",
    "seed = 3\n",
    "np.random.seed(seed)\n",
    "tf.set_random_seed(seed)\n",
    "\n",
    "# 将所有数据分割成训练集80%测试集20%\n",
    "train_indices = np.random.choice(len(x_vals), int(round(len(x_vals)*0.8)), replace=False)\n",
    "test_indices = np.array(list(set(range(len(x_vals))) - set(train_indices)))\n",
    "\n",
    "x_vals_train = x_vals[train_indices]\n",
    "x_vals_test = x_vals[test_indices]\n",
    "y_vals_train = y_vals[train_indices]\n",
    "y_vals_test = y_vals[test_indices]"
   ]
  },
  {
   "cell_type": "markdown",
   "metadata": {
    "collapsed": false,
    "scrolled": true
   },
   "source": [
    "#### *原始数据存储*"
   ]
  },
  {
   "cell_type": "code",
   "execution_count": 36,
   "metadata": {
    "collapsed": false,
    "scrolled": true
   },
   "outputs": [],
   "source": [
    "def save_data(x_vals, y_vals, file_name, y_label):\n",
    "    # save train data\n",
    "    temp_data = pd.DataFrame(x_vals, columns=['temperature.SI','pressure.SI','humidity.SI','wind_speed.SI','PM2.5.SI','NO2.SI','CO.SI','O3.SI','SO2.SI'])\n",
    "    temp_data[y_label] = y_vals\n",
    "    temp_data.to_csv(file_name, index=False)\n",
    "    return "
   ]
  },
  {
   "cell_type": "code",
   "execution_count": 40,
   "metadata": {
    "collapsed": false
   },
   "outputs": [],
   "source": [
    "y_label = 'y_temperature.SI'\n",
    "# save train data\n",
    "train_file = './data/temp_train.csv'\n",
    "save_data(x_vals_train, y_vals_train, train_file, y_label)\n",
    "# save test data\n",
    "test_file = './data/temp_test.csv'\n",
    "save_data(x_vals_test, y_vals_test, test_file, y_label)"
   ]
  },
  {
   "cell_type": "markdown",
   "metadata": {},
   "source": [
    "## 构建网络"
   ]
  },
  {
   "cell_type": "code",
   "execution_count": 6,
   "metadata": {
    "collapsed": false
   },
   "outputs": [],
   "source": [
    "# 定义变量函数(权重和偏差)，stdev参数表示方差\n",
    "def init_weight(shape, st_dev):\n",
    "    weight = tf.Variable(tf.random_normal(shape, stddev=st_dev))\n",
    "    return (weight)\n",
    "\n",
    "\n",
    "def init_bias(shape, st_dev):\n",
    "    bias = tf.Variable(tf.random_normal(shape, stddev=st_dev))\n",
    "    return (bias)\n",
    "\n",
    "# 创建一个全连接层函数\n",
    "def fully_connected(input_layer, weights, biases, activation=True):\n",
    "    layer = tf.add(tf.matmul(input_layer, weights), biases)\n",
    "    if(activation):\n",
    "        return (tf.nn.sigmoid(layer))\n",
    "    else:\n",
    "        return (layer)\n",
    "\n",
    "# 创建数据占位符\n",
    "x_data = tf.placeholder(shape=[None, 9], dtype=tf.float32)\n",
    "y_target = tf.placeholder(shape=[None, 1], dtype=tf.float32)\n",
    "\n",
    "# layer0->layer1 （9，7）\n",
    "W_0 = init_weight(shape=[9, 7], st_dev=10.0)\n",
    "b_0 = init_bias(shape=[7], st_dev=10.0)\n",
    "layer_1 = fully_connected(x_data, W_0, b_0)\n",
    "\n",
    "# layer1->layer2 （7，10）\n",
    "W_1 = init_weight(shape=[7, 10], st_dev=10.0)\n",
    "b_1 = init_bias(shape=[10], st_dev=10.0)\n",
    "layer_2 = fully_connected(layer_1, W_1, b_1)\n",
    "\n",
    "# layer2->output （10，1）\n",
    "W_2 = init_weight(shape=[10, 1], st_dev=10.0)\n",
    "b_2 = init_bias(shape=[1], st_dev=10.0)\n",
    "layer_out = fully_connected(layer_2, W_2, b_2, False)\n",
    "\n",
    "# 交叉熵函数\n",
    "loss = tf.reduce_mean(tf.nn.sigmoid_cross_entropy_with_logits(logits=layer_out, labels=y_target))\n",
    "\n",
    "# 定义优化器\n",
    "my_opt = tf.train.AdamOptimizer(0.002)  # 使用Adam优化器，学习率使用0.002\n",
    "train_step = my_opt.minimize(loss)\n"
   ]
  },
  {
   "cell_type": "markdown",
   "metadata": {},
   "source": [
    "## 填充数据与训练"
   ]
  },
  {
   "cell_type": "code",
   "execution_count": 7,
   "metadata": {
    "collapsed": false,
    "scrolled": true
   },
   "outputs": [],
   "source": [
    "sess.run(tf.global_variables_initializer())\n",
    "\n",
    "# def rmsle(y, y0):\n",
    "#     assert len(y) == len(y0)\n",
    "#     return np.sqrt(np.mean(np.power(np.log1p(y)-np.log1p(y0), 2)))\n",
    "\n",
    "# Actual Prediction\n",
    "prediction = tf.round(tf.nn.sigmoid(layer_out))\n",
    "rmsle = tf.sqrt(tf.reduce_mean(tf.pow(tf.log1p(y_target)-tf.log1p(prediction), 2)))"
   ]
  },
  {
   "cell_type": "code",
   "execution_count": 8,
   "metadata": {
    "collapsed": false
   },
   "outputs": [
    {
     "name": "stdout",
     "output_type": "stream",
     "text": [
      "Generation: 500. Loss = 1.0591549\n",
      "Generation: 1000. Loss = 0.77164966\n",
      "Generation: 1500. Loss = 0.70319444\n",
      "Generation: 2000. Loss = 0.68183154\n",
      "Generation: 2500. Loss = 0.6569544\n",
      "Generation: 3000. Loss = 0.64284843\n",
      "Generation: 3500. Loss = 0.6323562\n",
      "Generation: 4000. Loss = 0.62589383\n",
      "Generation: 4500. Loss = 0.6232024\n",
      "Generation: 5000. Loss = 0.62010324\n",
      "Generation: 5500. Loss = 0.6200525\n",
      "Generation: 6000. Loss = 0.61644024\n",
      "Generation: 6500. Loss = 0.61505514\n",
      "Generation: 7000. Loss = 0.61361736\n",
      "Generation: 7500. Loss = 0.6113798\n",
      "Generation: 8000. Loss = 0.6090578\n",
      "Generation: 8500. Loss = 0.608854\n",
      "Generation: 9000. Loss = 0.6070944\n",
      "Generation: 9500. Loss = 0.6075476\n",
      "Generation: 10000. Loss = 0.60766345\n",
      "Generation: 10500. Loss = 0.6051028\n",
      "Generation: 11000. Loss = 0.6037804\n",
      "Generation: 11500. Loss = 0.6046044\n",
      "Generation: 12000. Loss = 0.60534585\n",
      "Generation: 12500. Loss = 0.60478497\n",
      "Generation: 13000. Loss = 0.60417604\n",
      "Generation: 13500. Loss = 0.60382026\n",
      "Generation: 14000. Loss = 0.6032057\n",
      "Generation: 14500. Loss = 0.60386354\n",
      "Generation: 15000. Loss = 0.6040921\n"
     ]
    }
   ],
   "source": [
    "# 训练\n",
    "loss_vec = []\n",
    "train_rmsle = []\n",
    "test_rmsle = []\n",
    "for i in range(15000):\n",
    "    rand_index = np.random.choice(len(x_vals_train), size=batch_size)\n",
    "    rand_x = x_vals_train[rand_index]  # shape=[batch_size,7]\n",
    "    rand_y = y_vals_train[rand_index].reshape([batch_size, 1])\n",
    "    # 使用训练数据对网络进行训练\n",
    "    sess.run(train_step, feed_dict={x_data: rand_x, y_target: rand_y})\n",
    "\n",
    "    temp_loss = sess.run(loss, feed_dict={x_data: rand_x, y_target: rand_y})\n",
    "    loss_vec.append(temp_loss)\n",
    "    temp_rmsle_train = sess.run(rmsle, feed_dict={x_data: x_vals_train, y_target: y_vals_train})\n",
    "    train_rmsle.append(temp_rmsle_train)\n",
    "    temp_rmsle_test = sess.run(rmsle, feed_dict={x_data: x_vals_test, y_target: y_vals_test})\n",
    "    test_rmsle.append(temp_rmsle_test)\n",
    "    if (i + 1)%500 == 0:\n",
    "        print('Generation: ' + str(i + 1) + '. Loss = ' + str(temp_loss))"
   ]
  },
  {
   "cell_type": "code",
   "execution_count": 9,
   "metadata": {
    "collapsed": false
   },
   "outputs": [
    {
     "data": {
      "image/png": "[encoded data removed]",
      "text/plain": [
       "<Figure size 432x288 with 1 Axes>"
      ]
     },
     "metadata": {},
     "output_type": "display_data"
    }
   ],
   "source": [
    "burnin = 1000\n",
    "# Plot loss over time\n",
    "plt.plot(loss_vec[burnin:], 'k-')\n",
    "plt.title('Cross Entropy Loss per Generation')\n",
    "plt.xlabel('Generation')\n",
    "plt.ylabel('Cross Entropy Loss')\n",
    "plt.show()"
   ]
  },
  {
   "cell_type": "code",
   "execution_count": 10,
   "metadata": {
    "collapsed": false
   },
   "outputs": [
    {
     "data": {
      "image/png": "[encoded data removed]",
      "text/plain": [
       "<Figure size 432x288 with 1 Axes>"
      ]
     },
     "metadata": {},
     "output_type": "display_data"
    }
   ],
   "source": [
    "# Plot train and test accuracy\n",
    "plt.plot(train_rmsle[burnin:], 'k-', label='Train Set RMSLE')\n",
    "plt.plot(test_rmsle[burnin:], 'r--', label='Test Set RMSLE')\n",
    "plt.title('Train and Test RMSLE')\n",
    "plt.xlabel('Generation')\n",
    "plt.ylabel('RMSLE')\n",
    "plt.legend(loc='upper right')\n",
    "plt.show()"
   ]
  },
  {
   "cell_type": "code",
   "execution_count": null,
   "metadata": {
    "collapsed": true
   },
   "outputs": [],
   "source": []
  }
 ],
 "metadata": {
  "anaconda-cloud": {},
  "kernelspec": {
   "display_name": "Python [conda env:edward_py2]",
   "language": "python",
   "name": "conda-env-edward_py2-py"
  },
  "language_info": {
   "codemirror_mode": {
    "name": "ipython",
    "version": 2
   },
   "file_extension": ".py",
   "mimetype": "text/x-python",
   "name": "python",
   "nbconvert_exporter": "python",
   "pygments_lexer": "ipython2",
   "version": "2.7.13"
  }
 },
 "nbformat": 4,
 "nbformat_minor": 1
}
