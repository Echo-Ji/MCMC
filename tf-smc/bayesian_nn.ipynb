{
 "cells": [
  {
   "cell_type": "code",
   "execution_count": 1,
   "metadata": {
    "collapsed": false
   },
   "outputs": [
    {
     "name": "stdout",
     "output_type": "stream",
     "text": [
      "WARNING:tensorflow:From /home/jjh/anaconda3/envs/edward_py2/lib/python2.7/site-packages/tensorflow/contrib/learn/python/learn/datasets/base.py:198: retry (from tensorflow.contrib.learn.python.learn.datasets.base) is deprecated and will be removed in a future version.\n",
      "Instructions for updating:\n",
      "Use the retry module or similar alternatives.\n"
     ]
    }
   ],
   "source": [
    "from __future__ import absolute_import\n",
    "from __future__ import division\n",
    "from __future__ import print_function\n",
    "\n",
    "import time, warnings, pickle\n",
    "import pandas as pd\n",
    "from sklearn.preprocessing import StandardScaler\n",
    "from sklearn.metrics import roc_auc_score\n",
    "import edward as ed\n",
    "import numpy as np\n",
    "import tensorflow as tf\n",
    "from matplotlib import pyplot as plt\n",
    "\n",
    "from edward.models import Normal\n",
    "warnings.simplefilter('ignore')"
   ]
  },
  {
   "cell_type": "code",
   "execution_count": 3,
   "metadata": {
    "collapsed": false
   },
   "outputs": [],
   "source": [
    "def build_toy_dataset():\n",
    "    features = ['fixed acidity','volatile acidity','citric acid','residual sugar','chlorides','free sulfur dioxide','total sulfur dioxide','density','pH','sulphates','alcohol']\n",
    "    df = pd.read_csv('../winequality-white.csv', sep=';')\n",
    "    X = df[features].values\n",
    "    y = (df.quality >= 7).values.astype(np.float32)\n",
    "\n",
    "    # 标准化处理\n",
    "    scaler = StandardScaler()\n",
    "    X = scaler.fit_transform(X).astype(np.float32)\n",
    "    return X, y\n",
    "\n",
    "def neural_network(X, W_0, W_1, b_0, b_1):\n",
    "    h = tf.tanh(tf.matmul(X, W_0) + b_0)\n",
    "    h = tf.matmul(h, W_1) + b_1\n",
    "    return tf.reshape(h, [-1])\n",
    "\n",
    "def pack_theta(W_0, W_1, b_0, b_1):\n",
    "    pW_0 = tf.reshape(W_0, [-1])\n",
    "    pW_1 = tf.reshape(W_1, [-1])\n",
    "    pb_0 = tf.reshape(b_0, [-1])\n",
    "    pb_1 = tf.reshape(b_1, [-1])\n",
    "    return tf.concat(values=[pW_0, pW_1, pb_0, pb_1], axis=0)"
   ]
  },
  {
   "cell_type": "code",
   "execution_count": 4,
   "metadata": {
    "collapsed": false
   },
   "outputs": [
    {
     "name": "stdout",
     "output_type": "stream",
     "text": [
      "4898 11\n"
     ]
    }
   ],
   "source": [
    "ed.set_seed(42)\n",
    "\n",
    "J = 1000\n",
    "B = 100\n",
    "K = 20\n",
    "# DATA\n",
    "X_train, y_train = build_toy_dataset() #真实数据\n",
    "N, D = X_train.shape\n",
    "print(N, D)"
   ]
  },
  {
   "cell_type": "code",
   "execution_count": 12,
   "metadata": {
    "collapsed": false
   },
   "outputs": [],
   "source": [
    "# MODEL\n",
    "W_0 = Normal(loc=tf.zeros([D, 14]), scale=tf.ones([D, 14]),name=\"W_0\")\n",
    "W_1 = Normal(loc=tf.zeros([14, 1]), scale=tf.ones([14, 1]), name=\"W_1\")\n",
    "b_0 = Normal(loc=tf.zeros(14), scale=tf.ones(14), name=\"b_0\")\n",
    "b_1 = Normal(loc=tf.zeros(1), scale=tf.ones(1), name=\"b_1\")\n",
    "\n",
    "X = tf.placeholder(tf.float32, [N, D], name=\"X\")\n",
    "y = Normal(loc=neural_network(X, W_0, W_1, b_0, b_1), scale=0.1 * tf.ones(N), name=\"y\")"
   ]
  },
  {
   "cell_type": "code",
   "execution_count": 13,
   "metadata": {
    "collapsed": false
   },
   "outputs": [],
   "source": [
    "# INFERENCE FRAMEWORK\n",
    "with tf.variable_scope(\"qW_0\"):\n",
    "    loc = tf.get_variable(\"loc\", [D, 14])\n",
    "    scale = tf.nn.softplus(tf.get_variable(\"scale\", [D, 14]))\n",
    "    qW_0 = Normal(loc=loc, scale=scale)\n",
    "with tf.variable_scope(\"qW_1\"):\n",
    "    loc = tf.get_variable(\"loc\", [14, 1])\n",
    "    scale = tf.nn.softplus(tf.get_variable(\"scale\", [14, 1]))\n",
    "    qW_1 = Normal(loc=loc, scale=scale)\n",
    "with tf.variable_scope(\"qb_0\"):\n",
    "    loc = tf.get_variable(\"loc\", [14])\n",
    "    scale = tf.nn.softplus(tf.get_variable(\"scale\", [14]))\n",
    "    qb_0 = Normal(loc=loc, scale=scale)\n",
    "with tf.variable_scope(\"qb_1\"):\n",
    "    loc = tf.get_variable(\"loc\", [1])\n",
    "    scale = tf.nn.softplus(tf.get_variable(\"scale\", [1]))\n",
    "    qb_1 = Normal(loc=loc, scale=scale)"
   ]
  },
  {
   "cell_type": "code",
   "execution_count": 14,
   "metadata": {
    "collapsed": false
   },
   "outputs": [],
   "source": [
    "# Sample functions from variational model to visualize fits.\n",
    "'''mus = tf.stack(\n",
    "    [neural_network(X_train, qW_0.sample(), qW_1.sample(),\n",
    "                       qb_0.sample(), qb_1.sample())\n",
    "    for _ in range(B)])\n",
    "'''\n",
    "mus = tf.stack(\n",
    "    [pack_theta(qW_0.sample(), qW_1.sample(),\n",
    "                       qb_0.sample(), qb_1.sample())\n",
    "    for _ in range(B)])"
   ]
  },
  {
   "cell_type": "code",
   "execution_count": 7,
   "metadata": {
    "collapsed": false
   },
   "outputs": [
    {
     "name": "stdout",
     "output_type": "stream",
     "text": [
      "initializing the graph...\n",
      "sampleing from prior of theta...\n",
      "sampling time:  10.7531280518\n"
     ]
    },
    {
     "data": {
      "image/png": "[encoded data removed]",
      "text/plain": [
       "<Figure size 432x288 with 1 Axes>"
      ]
     },
     "metadata": {},
     "output_type": "display_data"
    }
   ],
   "source": [
    "print(\"initializing the graph...\")\n",
    "start_sample = time.time()\n",
    "sess = ed.get_session()\n",
    "tf.global_variables_initializer().run()\n",
    "print(\"sampleing from prior of theta...\")\n",
    "outputs = mus.eval()\n",
    "print(\"sampling time: \", time.time() - start_sample)\n",
    "\n",
    "s = []\n",
    "for i in range(B):\n",
    "    s.append(roc_auc_score(y_train,outputs[i]))\n",
    "    \n",
    "plt.hist(s, bins=100)\n",
    "plt.show()"
   ]
  },
  {
   "cell_type": "code",
   "execution_count": 15,
   "metadata": {
    "collapsed": false
   },
   "outputs": [
    {
     "name": "stdout",
     "output_type": "stream",
     "text": [
      "1000/1000 [100%] ██████████████████████████████ Elapsed: 27s | Loss: 26135.258\n"
     ]
    }
   ],
   "source": [
    "inference = ed.KLqp({W_0: qW_0, b_0: qb_0,\n",
    "                       W_1: qW_1, b_1: qb_1}, data={X: X_train, y: y_train})\n",
    "inference.run(n_iter=J, n_samples=K)"
   ]
  },
  {
   "cell_type": "code",
   "execution_count": 12,
   "metadata": {
    "collapsed": false
   },
   "outputs": [
    {
     "data": {
      "text/plain": [
       "(100, 4898)"
      ]
     },
     "execution_count": 12,
     "metadata": {},
     "output_type": "execute_result"
    }
   ],
   "source": [
    "outputs.shape"
   ]
  },
  {
   "cell_type": "code",
   "execution_count": 9,
   "metadata": {
    "collapsed": false
   },
   "outputs": [
    {
     "name": "stdout",
     "output_type": "stream",
     "text": [
      "sampleing from posterior of theta...\n",
      "sampling time:  0.0537738800049\n"
     ]
    },
    {
     "data": {
      "image/png": "[encoded data removed]",
      "text/plain": [
       "<Figure size 432x288 with 1 Axes>"
      ]
     },
     "metadata": {},
     "output_type": "display_data"
    }
   ],
   "source": [
    "print(\"sampleing from posterior of theta...\")\n",
    "start_sample = time.time()\n",
    "outputs = mus.eval()\n",
    "print(\"sampling time: \", time.time() - start_sample)\n",
    "sp = []\n",
    "for i in range(B):\n",
    "    sp.append(roc_auc_score(y_train,outputs[i]))\n",
    "    \n",
    "plt.hist(sp, bins=100)\n",
    "plt.show()"
   ]
  },
  {
   "cell_type": "code",
   "execution_count": 16,
   "metadata": {
    "collapsed": true
   },
   "outputs": [],
   "source": [
    "import pickle\n",
    "outputs = mus.eval()\n",
    "with open('../smc2/theta'+'-'+str(J)+'-'+str(B),'wb') as f:\n",
    "    pickle.dump(outputs, f)"
   ]
  },
  {
   "cell_type": "code",
   "execution_count": 5,
   "metadata": {
    "collapsed": false
   },
   "outputs": [],
   "source": [
    "with open('../smc2/theta'+'-'+str(J)+'-'+str(B),'rb') as f:\n",
    "    outputs1 = np.array(pickle.load(f))"
   ]
  },
  {
   "cell_type": "code",
   "execution_count": 6,
   "metadata": {
    "collapsed": false
   },
   "outputs": [],
   "source": [
    "def np_neural_network(X, W_0, W_1, b_0, b_1):\n",
    "    h = np.tanh(np.matmul(X, W_0) + b_0)\n",
    "    h = np.matmul(h, W_1) + b_1\n",
    "    return np.reshape(h, [-1])\n",
    "\n",
    "def unpack_thete_get_outputs(X, theta):\n",
    "    W_0 = np.reshape(theta[0:11*14], [11, 14])\n",
    "    W_1 = np.reshape(theta[11*14: 11*14+14*1], [14, 1])\n",
    "    b_0 = np.reshape(theta[11*14+14*1:11*14+14*1+14], [14])\n",
    "    b_1 = np.reshape(theta[11*14+14*1+14:], [1])\n",
    "    return np_neural_network(X, W_0, W_1, b_0, b_1)"
   ]
  },
  {
   "cell_type": "code",
   "execution_count": 7,
   "metadata": {
    "collapsed": false
   },
   "outputs": [
    {
     "data": {
      "image/png": "[encoded data removed]",
      "text/plain": [
       "<Figure size 432x288 with 1 Axes>"
      ]
     },
     "metadata": {},
     "output_type": "display_data"
    }
   ],
   "source": [
    "sp = []\n",
    "for theta in outputs1:\n",
    "    sp.append(roc_auc_score(y_train,unpack_thete_get_outputs(X_train, theta)))\n",
    "plt.hist(sp, bins=100)\n",
    "plt.show()"
   ]
  },
  {
   "cell_type": "code",
   "execution_count": 22,
   "metadata": {
    "collapsed": false
   },
   "outputs": [
    {
     "data": {
      "image/png": "[encoded data removed]",
      "text/plain": [
       "<Figure size 432x288 with 1 Axes>"
      ]
     },
     "metadata": {},
     "output_type": "display_data"
    }
   ],
   "source": [
    "sp = []\n",
    "for i in range(B):\n",
    "    sp.append(roc_auc_score(y_train,unpack_thete_get_outputs(X_train, outputs[i])))\n",
    "plt.hist(sp, bins=100)\n",
    "plt.show()"
   ]
  },
  {
   "cell_type": "code",
   "execution_count": 12,
   "metadata": {
    "collapsed": false
   },
   "outputs": [
    {
     "data": {
      "text/plain": [
       "(1000, 11, 14)"
      ]
     },
     "execution_count": 12,
     "metadata": {},
     "output_type": "execute_result"
    }
   ],
   "source": [
    "plt.savefig"
   ]
  },
  {
   "cell_type": "code",
   "execution_count": 14,
   "metadata": {
    "collapsed": false
   },
   "outputs": [
    {
     "data": {
      "image/png": "[encoded data removed]",
      "text/plain": [
       "<Figure size 432x288 with 1 Axes>"
      ]
     },
     "metadata": {},
     "output_type": "display_data"
    }
   ],
   "source": [
    "plt.hist(mya[:,0,0])\n",
    "plt.show()"
   ]
  },
  {
   "cell_type": "code",
   "execution_count": null,
   "metadata": {
    "collapsed": true
   },
   "outputs": [],
   "source": [
    "saver = tf.train.Saver([])\n",
    "with tf.Session() as sess:\n",
    "    saver."
   ]
  }
 ],
 "metadata": {
  "anaconda-cloud": {},
  "kernelspec": {
   "display_name": "Python [conda env:edward_py2]",
   "language": "python",
   "name": "conda-env-edward_py2-py"
  },
  "language_info": {
   "codemirror_mode": {
    "name": "ipython",
    "version": 2
   },
   "file_extension": ".py",
   "mimetype": "text/x-python",
   "name": "python",
   "nbconvert_exporter": "python",
   "pygments_lexer": "ipython2",
   "version": "2.7.13"
  }
 },
 "nbformat": 4,
 "nbformat_minor": 1
}
