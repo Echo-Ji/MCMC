{
 "cells": [
  {
   "cell_type": "code",
   "execution_count": 13,
   "metadata": {},
   "outputs": [],
   "source": [
    "import os, sys, pickle, math, warnings, time\n",
    "import pandas as pd\n",
    "import numpy as np\n",
    "import tensorflow as tf\n",
    "import tensorflow_probability as tfp\n",
    "from sklearn.preprocessing import StandardScaler\n",
    "# 宏定义\n",
    "tfd = tfp.distributions\n",
    "dtype = np.float32"
   ]
  },
  {
   "cell_type": "markdown",
   "metadata": {},
   "source": [
    "#### 计算v\n",
    "\n",
    "#### 对于Theta的重采样\n",
    "待完成...\n",
    "\n",
    "#### MH链-SMC第三步\n",
    "只取返回结果的最后一轮作为样本\n",
    "\n",
    "```\n",
    "tfp.mcmc.sample_chain(\n",
    "    num_results, # K\n",
    "    current_state, # samples whose leftmost dimesion's B\n",
    "    previous_kernel_results=None,\n",
    "    kernel=None, \n",
    "    num_burnin_steps=0,\n",
    "    num_steps_between_results=0,\n",
    "    parallel_iterations=10,\n",
    "    name=None\n",
    ")\n",
    "```\n"
   ]
  },
  {
   "cell_type": "code",
   "execution_count": 1,
   "metadata": {},
   "outputs": [],
   "source": []
  },
  {
   "cell_type": "code",
   "execution_count": 2,
   "metadata": {},
   "outputs": [
    {
     "name": "stdout",
     "output_type": "stream",
     "text": [
      "Estimated mean: -0.10047363489866257\n",
      "Estimated standard deviation: 0.9807838201522827\n"
     ]
    }
   ],
   "source": [
    "target = tfd.Normal(loc=dtype(0), scale=dtype(1))\n",
    "\n",
    "samples, _ = tfp.mcmc.sample_chain(\n",
    "  num_results=1000,\n",
    "  current_state=dtype(1),\n",
    "  kernel=tfp.mcmc.RandomWalkMetropolis(\n",
    "     target.log_prob,\n",
    "     seed=42),\n",
    "  num_burnin_steps=500,\n",
    "  parallel_iterations=1)  # For determinism.\n",
    "\n",
    "sample_mean = tf.reduce_mean(samples, axis=0)\n",
    "sample_std = tf.sqrt(\n",
    "    tf.reduce_mean(tf.squared_difference(samples, sample_mean),\n",
    "                   axis=0))\n",
    "with tf.Session() as sess:\n",
    "  [sample_mean_, sample_std_] = sess.run([sample_mean, sample_std])\n",
    "\n",
    "print('Estimated mean: {}'.format(sample_mean_))\n",
    "print('Estimated standard deviation: {}'.format(sample_std_))"
   ]
  },
  {
   "cell_type": "code",
   "execution_count": 11,
   "metadata": {},
   "outputs": [],
   "source": [
    "# SMC参数设置\n",
    "J = 10    #迭代轮数\n",
    "B = 10**4 #并行样本数\n",
    "K = 16    #每次MH的轮数\n",
    "\n",
    "layer_size = [8, 7, 10, 1]\n",
    "l2_norm = 0.0003"
   ]
  },
  {
   "cell_type": "code",
   "execution_count": 8,
   "metadata": {},
   "outputs": [],
   "source": [
    "# 数据导入以及标准化处理\n",
    "features = ['fixed acidity','volatile acidity','residual sugar','chlorides','free sulfur dioxide','density','pH','sulphates']\n",
    "df = pd.read_csv('../winequality-white.csv', sep=';')\n",
    "X = df[features].values\n",
    "y = (df.quality >= 7).values\n",
    "\n",
    "X = StandardScaler().fit_transform(X).astype(dtype)"
   ]
  },
  {
   "cell_type": "code",
   "execution_count": 14,
   "metadata": {},
   "outputs": [],
   "source": [
    "class Theta(object):\n",
    "    def __init__(self):\n",
    "        self.w = []\n",
    "        self.b = []\n",
    "        for s1,s2 in zip(layer_size[:-1], layer_size[1:]):\n",
    "            self.w.append(np.random.normal(0, 10, [s1,s2]))\n",
    "            self.b.append(np.random.normal(0, 10, [s2]))\n",
    "    \n",
    "    def random_walk(self):\n",
    "        i = 0\n",
    "        for s1,s2 in zip(layer_size[:-1], layer_size[1:]):\n",
    "            self.w[i] += np.random.normal(0, 1, [s1,s2])\n",
    "            self.b[i] += np.random.normal(0, 1, [s2])\n",
    "            i += 1  \n",
    "    \n",
    "    def rand_walk(self):\n",
    "        self.w += np.random.normal(0, 1, self.w.shape)\n",
    "        self.b += np.random.normal(0, 1, self.b.shape)"
   ]
  },
  {
   "cell_type": "code",
   "execution_count": 12,
   "metadata": {},
   "outputs": [
    {
     "ename": "NameError",
     "evalue": "name 'Theata' is not defined",
     "output_type": "error",
     "traceback": [
      "\u001b[0;31m---------------------------------------------------------------------------\u001b[0m",
      "\u001b[0;31mNameError\u001b[0m                                 Traceback (most recent call last)",
      "\u001b[0;32m<ipython-input-12-30f6e037e8cb>\u001b[0m in \u001b[0;36m<module>\u001b[0;34m()\u001b[0m\n\u001b[0;32m----> 1\u001b[0;31m \u001b[0mtheta\u001b[0m \u001b[0;34m=\u001b[0m \u001b[0mTheata\u001b[0m\u001b[0;34m(\u001b[0m\u001b[0;34m)\u001b[0m\u001b[0;34m\u001b[0m\u001b[0m\n\u001b[0m",
      "\u001b[0;31mNameError\u001b[0m: name 'Theata' is not defined"
     ]
    }
   ],
   "source": [
    "theta = Theata()\n"
   ]
  },
  {
   "cell_type": "code",
   "execution_count": 9,
   "metadata": {},
   "outputs": [
    {
     "data": {
      "text/plain": [
       "array([ 0.17209697, -0.0817699 ,  2.8213491 , -0.035355  ,  0.56993157,\n",
       "        2.331512  , -1.2469213 , -0.34918424], dtype=float32)"
      ]
     },
     "execution_count": 9,
     "metadata": {},
     "output_type": "execute_result"
    }
   ],
   "source": []
  },
  {
   "cell_type": "code",
   "execution_count": null,
   "metadata": {},
   "outputs": [],
   "source": []
  }
 ],
 "metadata": {
  "kernelspec": {
   "display_name": "Python 3",
   "language": "python",
   "name": "python3"
  },
  "language_info": {
   "codemirror_mode": {
    "name": "ipython",
    "version": 3
   },
   "file_extension": ".py",
   "mimetype": "text/x-python",
   "name": "python",
   "nbconvert_exporter": "python",
   "pygments_lexer": "ipython3",
   "version": "3.5.3"
  }
 },
 "nbformat": 4,
 "nbformat_minor": 2
}
